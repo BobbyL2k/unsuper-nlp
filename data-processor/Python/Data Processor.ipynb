{
 "cells": [
  {
   "cell_type": "markdown",
   "metadata": {},
   "source": [
    "Auto Reload Modules"
   ]
  },
  {
   "cell_type": "code",
   "execution_count": 15,
   "metadata": {},
   "outputs": [
    {
     "name": "stdout",
     "output_type": "stream",
     "text": [
      "The autoreload extension is already loaded. To reload it, use:\n",
      "  %reload_ext autoreload\n"
     ]
    }
   ],
   "source": [
    "%load_ext autoreload\n",
    "%autoreload 2"
   ]
  },
  {
   "cell_type": "markdown",
   "metadata": {},
   "source": [
    "Imports"
   ]
  },
  {
   "cell_type": "code",
   "execution_count": 16,
   "metadata": {},
   "outputs": [],
   "source": [
    "import json"
   ]
  },
  {
   "cell_type": "code",
   "execution_count": 17,
   "metadata": {},
   "outputs": [],
   "source": [
    "import match"
   ]
  },
  {
   "cell_type": "code",
   "execution_count": 28,
   "metadata": {},
   "outputs": [],
   "source": [
    "from IPython.display import clear_output"
   ]
  },
  {
   "cell_type": "markdown",
   "metadata": {},
   "source": [
    "Open files"
   ]
  },
  {
   "cell_type": "code",
   "execution_count": 18,
   "metadata": {},
   "outputs": [],
   "source": [
    "data_file = list(open(\"../../data/json/posts/pantip/posts.json\", \"r\"))"
   ]
  },
  {
   "cell_type": "code",
   "execution_count": 19,
   "metadata": {},
   "outputs": [
    {
     "name": "stdout",
     "output_type": "stream",
     "text": [
      "ชุ่ย จริงๆ มีทั้งตะปูและเศษไม้เศษวัสดุก่อสร้างอื่นๆกระเด็นตกไปยังฝั่งสำนักงาน รถยนต์เจ้าหน้าที่ก็โดนตะปู แจ้งช่างคุมงานของเทศบาลก็เพิกเฉย โทรศัพท์ขอคุยกับนายกฯก็จบแค่ที่หน้าห้อง สุดท้ายก็ขอประจานทางสื่อต่างๆละกัน\n",
      "\n",
      "ขอบคุณเวบแนะนำการควบคุมการก่อสร้าง\n",
      "https://web.ku.ac.th/schoolnet/snet6/envi4/fun1/fun1.htm\n"
     ]
    }
   ],
   "source": [
    "post_objs = [json.loads(json_str) for json_str in data_file]\n",
    "post_str = post_objs[0]['post']\n",
    "print(post_str)"
   ]
  },
  {
   "cell_type": "code",
   "execution_count": 20,
   "metadata": {},
   "outputs": [],
   "source": [
    "np_post = match.np_string(post_str)\n",
    "np_keyword = match.np_string(\"เพ็ชรรัตน์เลควิวล์\")"
   ]
  },
  {
   "cell_type": "code",
   "execution_count": 73,
   "metadata": {
    "collapsed": true
   },
   "outputs": [],
   "source": [
    "# fr, to, dis = match.string_search(np_post, np_keyword)\n",
    "# struct = list(zip(fr, to, dis))\n",
    "# struct.sort(key=lambda x:x[2])\n",
    "\n",
    "# to_remove = [False] * len(struct)\n",
    "# for index, elem in enumerate(struct):\n",
    "#     fr_e, _, dis_e = elem\n",
    "#     for index_c in range(index+1, len(struct)):\n",
    "#         fr_c, _, dis_c = struct[index_c]\n",
    "#         if abs(fr_c - fr_e) >= dis_c - dis_e:\n",
    "#             to_remove[index_c] = True\n",
    "\n",
    "# temp = struct\n",
    "# struct = []\n",
    "\n",
    "# for elem, remove in zip(temp, to_remove):\n",
    "#     if remove == False:\n",
    "#         struct.append(elem)"
   ]
  },
  {
   "cell_type": "code",
   "execution_count": 86,
   "metadata": {},
   "outputs": [
    {
     "name": "stdout",
     "output_type": "stream",
     "text": [
      "0 '...ี่คือ | เพ็ชรรัตน์เลควิวล์ | สี่ พ...'\n"
     ]
    }
   ],
   "source": [
    "# for fr_i, to_i, dis_v in struct:\n",
    "#     print(\"%d '...%s | %s | %s...'\" % (dis_v, post_str[fr_i-5:fr_i], post_str[fr_i:to_i], post_str[to_i:to_i+5]))"
   ]
  },
  {
   "cell_type": "code",
   "execution_count": 31,
   "metadata": {},
   "outputs": [
    {
     "name": "stdout",
     "output_type": "stream",
     "text": [
      "There are 4625 keywords\n",
      "0 บ้านสวนวิวเขา ศรีราชา\n",
      "1 Baan Suan View Khao Si Racha\n",
      "2 เพลินวิว ทิวเขา (เก้ากิโล-เขาน้ำซับ)\n",
      "3 Ploen View Thew Khao\n",
      "4 บ้านจัดสรร M&P\n"
     ]
    }
   ],
   "source": [
    "keywords = match.get_keywords()\n",
    "print(\"There are %d keywords\" % len(keywords) )\n",
    "for i in range(5):\n",
    "    print(i, keywords[i])"
   ]
  },
  {
   "cell_type": "code",
   "execution_count": 34,
   "metadata": {
    "scrolled": true
   },
   "outputs": [
    {
     "name": "stdout",
     "output_type": "stream",
     "text": [
      "index 19\n",
      "keyword 2944\n"
     ]
    },
    {
     "ename": "KeyboardInterrupt",
     "evalue": "",
     "output_type": "error",
     "traceback": [
      "\u001b[0;31m---------------------------------------------------------------------------\u001b[0m",
      "\u001b[0;31mKeyboardInterrupt\u001b[0m                         Traceback (most recent call last)",
      "\u001b[0;32m<ipython-input-34-121c816716d5>\u001b[0m in \u001b[0;36m<module>\u001b[0;34m()\u001b[0m\n\u001b[1;32m     15\u001b[0m                 \u001b[0mprint\u001b[0m\u001b[0;34m(\u001b[0m\u001b[0;34m'index'\u001b[0m\u001b[0;34m,\u001b[0m \u001b[0mindex\u001b[0m\u001b[0;34m)\u001b[0m\u001b[0;34m\u001b[0m\u001b[0m\n\u001b[1;32m     16\u001b[0m                 \u001b[0mprint\u001b[0m\u001b[0;34m(\u001b[0m\u001b[0;34m'keyword'\u001b[0m\u001b[0;34m,\u001b[0m \u001b[0mk_index\u001b[0m\u001b[0;34m)\u001b[0m\u001b[0;34m\u001b[0m\u001b[0m\n\u001b[0;32m---> 17\u001b[0;31m             \u001b[0mmatches\u001b[0m \u001b[0;34m=\u001b[0m \u001b[0mmatch\u001b[0m\u001b[0;34m.\u001b[0m\u001b[0mstring_search\u001b[0m\u001b[0;34m(\u001b[0m\u001b[0mpost_str\u001b[0m\u001b[0;34m,\u001b[0m \u001b[0mkeyword\u001b[0m\u001b[0;34m)\u001b[0m\u001b[0;34m\u001b[0m\u001b[0m\n\u001b[0m\u001b[1;32m     18\u001b[0m             \u001b[0;32mif\u001b[0m \u001b[0mlen\u001b[0m\u001b[0;34m(\u001b[0m\u001b[0mmatches\u001b[0m\u001b[0;34m)\u001b[0m \u001b[0;34m>\u001b[0m \u001b[0;36m0\u001b[0m\u001b[0;34m:\u001b[0m\u001b[0;34m\u001b[0m\u001b[0m\n\u001b[1;32m     19\u001b[0m                 \u001b[0mprint\u001b[0m\u001b[0;34m(\u001b[0m\u001b[0;34m'found %s'\u001b[0m \u001b[0;34m%\u001b[0m \u001b[0;34m(\u001b[0m\u001b[0mkeyword\u001b[0m\u001b[0;34m)\u001b[0m\u001b[0;34m)\u001b[0m\u001b[0;34m\u001b[0m\u001b[0m\n",
      "\u001b[0;32m~/Dev/Chula/senior-project/unsuper-nlp/data-processor/string-distance/match.py\u001b[0m in \u001b[0;36mstring_search\u001b[0;34m(lg_npstr, sm_npstr, threshold, keep_best)\u001b[0m\n\u001b[1;32m     53\u001b[0m \u001b[0;34m\u001b[0m\u001b[0m\n\u001b[1;32m     54\u001b[0m         \u001b[0;32mfor\u001b[0m \u001b[0mi2\u001b[0m \u001b[0;32min\u001b[0m \u001b[0mrange\u001b[0m\u001b[0;34m(\u001b[0m\u001b[0mmem\u001b[0m\u001b[0;34m.\u001b[0m\u001b[0mshape\u001b[0m\u001b[0;34m[\u001b[0m\u001b[0;36m0\u001b[0m\u001b[0;34m]\u001b[0m \u001b[0;34m-\u001b[0m \u001b[0;36m2\u001b[0m\u001b[0;34m,\u001b[0m \u001b[0;34m-\u001b[0m\u001b[0;36m1\u001b[0m\u001b[0;34m,\u001b[0m \u001b[0;34m-\u001b[0m\u001b[0;36m1\u001b[0m\u001b[0;34m)\u001b[0m\u001b[0;34m:\u001b[0m\u001b[0;34m\u001b[0m\u001b[0m\n\u001b[0;32m---> 55\u001b[0;31m             \u001b[0;32mif\u001b[0m \u001b[0mmem\u001b[0m\u001b[0;34m[\u001b[0m\u001b[0mi2\u001b[0m\u001b[0;34m]\u001b[0m \u001b[0;34m>=\u001b[0m \u001b[0;36m1\u001b[0m \u001b[0;34m+\u001b[0m \u001b[0mmem\u001b[0m\u001b[0;34m[\u001b[0m\u001b[0mi2\u001b[0m \u001b[0;34m+\u001b[0m \u001b[0;36m1\u001b[0m\u001b[0;34m]\u001b[0m\u001b[0;34m:\u001b[0m\u001b[0;34m\u001b[0m\u001b[0m\n\u001b[0m\u001b[1;32m     56\u001b[0m                 \u001b[0mmem\u001b[0m\u001b[0;34m[\u001b[0m\u001b[0mi2\u001b[0m\u001b[0;34m]\u001b[0m \u001b[0;34m=\u001b[0m \u001b[0;36m1\u001b[0m \u001b[0;34m+\u001b[0m \u001b[0mmem\u001b[0m\u001b[0;34m[\u001b[0m\u001b[0mi2\u001b[0m \u001b[0;34m+\u001b[0m \u001b[0;36m1\u001b[0m\u001b[0;34m]\u001b[0m\u001b[0;34m\u001b[0m\u001b[0m\n\u001b[1;32m     57\u001b[0m                 \u001b[0mloc_to\u001b[0m\u001b[0;34m[\u001b[0m\u001b[0mi2\u001b[0m\u001b[0;34m]\u001b[0m \u001b[0;34m=\u001b[0m \u001b[0mloc_to\u001b[0m\u001b[0;34m[\u001b[0m\u001b[0mi2\u001b[0m \u001b[0;34m+\u001b[0m \u001b[0;36m1\u001b[0m\u001b[0;34m]\u001b[0m\u001b[0;34m\u001b[0m\u001b[0m\n",
      "\u001b[0;31mKeyboardInterrupt\u001b[0m: "
     ]
    }
   ],
   "source": [
    "with open(\"../../data/json/tagged/posts.json\", \"x\") as tag_file:\n",
    "    for index, post_obj in enumerate(post_objs):\n",
    "        clear_output(wait=True)\n",
    "        print('index', index)\n",
    "        post_str = post_obj['post']\n",
    "        \n",
    "        if len(post_str) is 0:\n",
    "            continue\n",
    "\n",
    "        keyword_matches = None\n",
    "\n",
    "        for k_index, keyword in enumerate(keywords):\n",
    "            if k_index & 127 == 0:\n",
    "                clear_output(wait=True)\n",
    "                print('index', index)\n",
    "                print('keyword', k_index)\n",
    "            matches = match.string_search(post_str, keyword)\n",
    "            if len(matches) > 0:\n",
    "                print('found %s' % (keyword))\n",
    "                if keyword_matches is None:\n",
    "                    keyword_matches = {}\n",
    "                keyword_matches[keyword] = []\n",
    "\n",
    "                for match_res in matches:\n",
    "                    fr_i, to_i, dis_v = match_res\n",
    "                    keyword_matches[keyword].append({\n",
    "                        \"from\":fr_i.item(),\n",
    "                        \"to\":to_i.item(),\n",
    "                        \"distance\":dis_v.item(),\n",
    "                    })\n",
    "                    print(\"MATCH %d '...%s | %s | %s...'\" % (dis_v, post_str[fr_i-5:fr_i], post_str[fr_i:to_i], post_str[to_i:to_i+5]))\n",
    "\n",
    "        if keyword_matches is not None:\n",
    "            print('index', index)\n",
    "            post_obj['keywords'] = keyword_matches\n",
    "            json.dump(post_obj, tag_file, ensure_ascii=False)\n",
    "            tag_file.write('\\n')"
   ]
  },
  {
   "cell_type": "code",
   "execution_count": 192,
   "metadata": {},
   "outputs": [
    {
     "name": "stdout",
     "output_type": "stream",
     "text": [
      "found มั่นคง\n",
      "MATCH 0 '...านที่ | มั่นคง | \n",
      "ด้วย...'\n",
      "{'มั่นคง': [{'to': 1394, 'distance': 0, 'from': 1388}]}\n"
     ]
    }
   ],
   "source": [
    "post_obj = post_objs[7]\n",
    "post_str = post_objs[7]['post']\n",
    "\n",
    "if len(post_str) == 0:\n",
    "    continue\n",
    "\n",
    "keyword_matches = None\n",
    "\n",
    "for keyword in keywords:\n",
    "    matches = match.string_search(post_str, keyword)\n",
    "    if len(matches) > 0:\n",
    "        print('found %s' % (keyword))\n",
    "        if keyword_matches is None:\n",
    "            keyword_matches = {}\n",
    "        keyword_matches[keyword] = []\n",
    "        \n",
    "        for match_res in matches:\n",
    "            fr_i, to_i, dis_v = match_res\n",
    "            keyword_matches[keyword].append({\n",
    "                \"from\":fr_i.item(),\n",
    "                \"to\":to_i.item(),\n",
    "                \"distance\":dis_v.item(),\n",
    "            })\n",
    "            print(\"MATCH %d '...%s | %s | %s...'\" % (dis_v, post_str[fr_i-5:fr_i], post_str[fr_i:to_i], post_str[to_i:to_i+5]))\n",
    "\n",
    "print(keyword_matches)\n",
    "\n",
    "if keyword_matches is not None:\n",
    "    post_obj['keywords'] = keyword_matches\n",
    "    json.dump(post_obj, tag_file, ensure_ascii=False)\n",
    "    tag_file.write('\\n')\n"
   ]
  },
  {
   "cell_type": "code",
   "execution_count": 193,
   "metadata": {},
   "outputs": [],
   "source": [
    "tag_file.close()"
   ]
  },
  {
   "cell_type": "code",
   "execution_count": 132,
   "metadata": {},
   "outputs": [
    {
     "name": "stdout",
     "output_type": "stream",
     "text": [
      "[]\n",
      "[]\n"
     ]
    }
   ],
   "source": [
    "print(np.equal([], 1))\n",
    "print(np.array(list('')) == 1)"
   ]
  },
  {
   "cell_type": "code",
   "execution_count": 124,
   "metadata": {
    "collapsed": true
   },
   "outputs": [],
   "source": [
    "import numpy as np"
   ]
  },
  {
   "cell_type": "code",
   "execution_count": null,
   "metadata": {
    "collapsed": true
   },
   "outputs": [],
   "source": [
    "np.no"
   ]
  }
 ],
 "metadata": {
  "kernelspec": {
   "display_name": "Python 3",
   "language": "python",
   "name": "python3"
  },
  "language_info": {
   "codemirror_mode": {
    "name": "ipython",
    "version": 3
   },
   "file_extension": ".py",
   "mimetype": "text/x-python",
   "name": "python",
   "nbconvert_exporter": "python",
   "pygments_lexer": "ipython3",
   "version": "3.5.4"
  }
 },
 "nbformat": 4,
 "nbformat_minor": 2
}
